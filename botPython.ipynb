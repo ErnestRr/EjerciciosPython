{
 "cells": [
  {
   "cell_type": "markdown",
   "metadata": {},
   "source": [
    "### Bot en Python"
   ]
  },
  {
   "cell_type": "markdown",
   "metadata": {},
   "source": [
    "#### Atención al cliente"
   ]
  },
  {
   "cell_type": "markdown",
   "metadata": {},
   "source": [
    "#### Construcción"
   ]
  },
  {
   "cell_type": "code",
   "execution_count": null,
   "metadata": {},
   "outputs": [],
   "source": [
    "print('responde las siguintes preguntas: + \\n')\n",
    "name = input('dime tu nombre:')\n",
    "lastname =  input('dime tu apellido: ')\n",
    "age = input('dime tu edad: ')"
   ]
  },
  {
   "cell_type": "code",
   "execution_count": null,
   "metadata": {},
   "outputs": [],
   "source": [
    "print(f'hola {name} {lastname}')"
   ]
  },
  {
   "cell_type": "code",
   "execution_count": 107,
   "metadata": {},
   "outputs": [],
   "source": [
    "cursos = {\n",
    "    'DS1' :{\n",
    "        'course name' : 'introduccion a la ciencia de datos',\n",
    "        'start date' : '10/06/23',\n",
    "        'cost' : '500',\n",
    "        'instructor' : ' benito franco'\n",
    "   },\n",
    "    'P1' :{\n",
    "        'course name' : 'introduccion a python',\n",
    "        'start date' : '10/06/24',\n",
    "        'cost' : '600',\n",
    "        'instructor' : ' lorena castro'\n",
    "   }\n",
    "}"
   ]
  },
  {
   "cell_type": "code",
   "execution_count": 119,
   "metadata": {},
   "outputs": [],
   "source": [
    "def create_course(_id, c_name, start_date, cost, instructor):\n",
    "    cursos[_id] = {\n",
    "        'course name' : c_name,\n",
    "        'start date' : start_date,\n",
    "        'cost' : cost,\n",
    "        'instructor' : instructor\n",
    "    }"
   ]
  },
  {
   "cell_type": "code",
   "execution_count": 120,
   "metadata": {},
   "outputs": [],
   "source": [
    "create_course('F1','intro a la data','01/07/2023','500','jesus sanchez')"
   ]
  },
  {
   "cell_type": "code",
   "execution_count": 121,
   "metadata": {},
   "outputs": [
    {
     "name": "stdout",
     "output_type": "stream",
     "text": [
      "nombre del curso: introduccion a la ciencia de datos\n",
      "fecha de inicio: 10/06/23\n",
      "precio: 500\n",
      "nombre del prof:  benito franco\n",
      "---------- \n",
      "\n",
      "nombre del curso: introduccion a python\n",
      "fecha de inicio: 10/06/24\n",
      "precio: 600\n",
      "nombre del prof:  lorena castro\n",
      "---------- \n",
      "\n",
      "nombre del curso: intro a la data\n",
      "fecha de inicio: 01/07/2023\n",
      "precio: 500\n",
      "nombre del prof: jesus sanchez\n",
      "---------- \n",
      "\n"
     ]
    }
   ],
   "source": [
    "for c in cursos.keys():\n",
    "    print(f\"nombre del curso: {cursos[c]['course name']}\")\n",
    "    print(f\"fecha de inicio: {cursos[c]['start date']}\")\n",
    "    print(f\"precio: {cursos[c]['cost']}\")\n",
    "    print(f\"nombre del prof: {cursos[c]['instructor']}\")\n",
    "    print('---------- \\n')\n",
    "   "
   ]
  },
  {
   "cell_type": "code",
   "execution_count": 145,
   "metadata": {},
   "outputs": [],
   "source": [
    "def bot():\n",
    "    interes = input('Te interesa tomar un curso? ').lower()\n",
    "    if interes == 'si':\n",
    "          print('\\n'+'Excelente' '\\n'+'que curso te interesa tomar? '+'\\n')\n",
    "          contador = 1\n",
    "          for c in cursos.keys():\n",
    "               print(f\"{contador} - {cursos[c]['course name']}\"+'\\n')\n",
    "               contador =contador+1\n",
    "               curso = input('Indice del curso seleccionado: ')\n",
    "               curso_key = list(cursos.keys())[int(curso)-1]\n",
    "               more_info = input('te gustaria recibir más información del curso seleccionado? ').lower()\n",
    "               if more_info == 'si':\n",
    "                    print(f\"nombre del curso: {cursos[curso_key]['course name']}\")\n",
    "                    print(f\"fecha de inicio: {cursos[curso_key]['start date']}\")\n",
    "                    print(f\"precio: {cursos[curso_key]['cost']}\")\n",
    "                    print(f\"nombre del prof: {cursos[curso_key]['instructor']}\")\n",
    "                    print('---------- \\n')\n",
    "               print('perfecto, puedes hacer tu pago...')\n",
    "\n",
    "               \n",
    "    elif interes == 'no':\n",
    "         print('lastima')\n",
    "    else: print('no entendi la respuesta')"
   ]
  },
  {
   "cell_type": "code",
   "execution_count": 146,
   "metadata": {},
   "outputs": [
    {
     "name": "stdout",
     "output_type": "stream",
     "text": [
      "\n",
      "Excelente\n",
      "que curso te interesa tomar? \n",
      "\n",
      "1 - introduccion a la ciencia de datos\n",
      "\n",
      "perfecto, puedes hacer tu pago...\n",
      "2 - introduccion a python\n",
      "\n",
      "nombre del curso: introduccion a python\n",
      "fecha de inicio: 10/06/24\n",
      "precio: 600\n",
      "nombre del prof:  lorena castro\n",
      "---------- \n",
      "\n",
      "perfecto, puedes hacer tu pago...\n",
      "3 - intro a la data\n",
      "\n",
      "nombre del curso: introduccion a la ciencia de datos\n",
      "fecha de inicio: 10/06/23\n",
      "precio: 500\n",
      "nombre del prof:  benito franco\n",
      "---------- \n",
      "\n",
      "perfecto, puedes hacer tu pago...\n"
     ]
    }
   ],
   "source": [
    "bot()"
   ]
  },
  {
   "cell_type": "code",
   "execution_count": null,
   "metadata": {},
   "outputs": [],
   "source": []
  }
 ],
 "metadata": {
  "kernelspec": {
   "display_name": "Python 3",
   "language": "python",
   "name": "python3"
  },
  "language_info": {
   "codemirror_mode": {
    "name": "ipython",
    "version": 3
   },
   "file_extension": ".py",
   "mimetype": "text/x-python",
   "name": "python",
   "nbconvert_exporter": "python",
   "pygments_lexer": "ipython3",
   "version": "3.12.3"
  }
 },
 "nbformat": 4,
 "nbformat_minor": 2
}
